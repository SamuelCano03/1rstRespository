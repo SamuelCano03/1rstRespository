{
  "nbformat": 4,
  "nbformat_minor": 0,
  "metadata": {
    "colab": {
      "name": "Lambdas.ipynb",
      "provenance": [],
      "authorship_tag": "ABX9TyPy1RJiEizJBowUKZK5Nvne",
      "include_colab_link": true
    },
    "kernelspec": {
      "name": "python3",
      "display_name": "Python 3"
    },
    "language_info": {
      "name": "python"
    }
  },
  "cells": [
    {
      "cell_type": "markdown",
      "metadata": {
        "id": "view-in-github",
        "colab_type": "text"
      },
      "source": [
        "<a href=\"https://colab.research.google.com/github/SamuelCano03/1rstRespository/blob/main/Lambdas.ipynb\" target=\"_parent\"><img src=\"https://colab.research.google.com/assets/colab-badge.svg\" alt=\"Open In Colab\"/></a>"
      ]
    },
    {
      "cell_type": "markdown",
      "source": [
        "#Lambdas"
      ],
      "metadata": {
        "id": "yl8Xdw3NUwFg"
      }
    },
    {
      "cell_type": "code",
      "execution_count": 30,
      "metadata": {
        "colab": {
          "base_uri": "https://localhost:8080/"
        },
        "id": "Yeigdu9VUrh3",
        "outputId": "f56b1f78-94bb-4755-82a9-f4310720d190"
      },
      "outputs": [
        {
          "output_type": "stream",
          "name": "stdout",
          "text": [
            "Overwriting ejercicio1.cpp\n"
          ]
        }
      ],
      "source": [
        "%%writefile ejercicio1.cpp\n",
        "#include<functional>\n",
        "#include<iostream>\n",
        "using std::cout;\n",
        "using std::function;\n",
        "\n",
        "struct Persona{\n",
        "    unsigned short edad;\n",
        "    unsigned long id;\n",
        "};\n",
        "int main(){\n",
        "    \n",
        "    Persona a;\n",
        "    //function <int(persona)> _lambda=...\n",
        "    auto _lambda=[] (Persona a_){return sizeof(a_);};\n",
        "    \n",
        "    auto _lambda2=[=] (){cout<<sizeof(a);};\n",
        "    cout<<_lambda(a);\n",
        "    _lambda2();\n",
        "    return 0;\n",
        "}"
      ]
    },
    {
      "cell_type": "code",
      "source": [
        "!g++ ejercicio1.cpp && ./a.out"
      ],
      "metadata": {
        "colab": {
          "base_uri": "https://localhost:8080/"
        },
        "id": "_tUG6kIiVgYP",
        "outputId": "d22ba529-b320-4bc7-e16d-f83072cc2799"
      },
      "execution_count": 25,
      "outputs": [
        {
          "output_type": "stream",
          "name": "stdout",
          "text": [
            "1616"
          ]
        }
      ]
    },
    {
      "cell_type": "code",
      "source": [
        "%%writefile ejercicio3.cpp\n",
        "#include<functional>\n",
        "#include<iostream>\n",
        "using std::cout;\n",
        "using std::function;\n",
        "\n",
        "void mensajero(function<void()> f){//función que tiene como parámetro otra función\n",
        "    f();\n",
        "    //implementación\n",
        "}\n",
        "//esto es útil cuando quieres hacer algo (f) pero además con una implementación \n",
        "int main(){\n",
        "    \n",
        "    function<void()> m1=[] ()->void{cout<<\"Perú\";};\n",
        "    function<void()> m2=[] ()->void{cout<<\"Brsail\";};\n",
        "    function<void()> m3=[] ()->void{cout<<\"Argentina\";};\n",
        "    mensajero(m1);\n",
        "    return 0;\n",
        "}"
      ],
      "metadata": {
        "colab": {
          "base_uri": "https://localhost:8080/"
        },
        "id": "VzWUmGlwVn1Y",
        "outputId": "d054309c-d146-462a-9a28-bb02019b01c0"
      },
      "execution_count": 34,
      "outputs": [
        {
          "output_type": "stream",
          "name": "stdout",
          "text": [
            "Overwriting ejercicio3.cpp\n"
          ]
        }
      ]
    },
    {
      "cell_type": "code",
      "source": [
        "!g++ ejercicio3.cpp && ./a.out"
      ],
      "metadata": {
        "colab": {
          "base_uri": "https://localhost:8080/"
        },
        "id": "I8DCEAPnZcJ2",
        "outputId": "ce57ec3c-503b-47a8-98d8-5c43c90dac48"
      },
      "execution_count": 35,
      "outputs": [
        {
          "output_type": "stream",
          "name": "stdout",
          "text": [
            "Perú"
          ]
        }
      ]
    },
    {
      "cell_type": "markdown",
      "source": [
        "#Archivos"
      ],
      "metadata": {
        "id": "KTus5tWhfvkp"
      }
    },
    {
      "cell_type": "code",
      "source": [
        "%%writefile archivos.cpp\n",
        "#include<iostream>\n",
        "#include<fstream>\n",
        "#include<string>\n",
        "using namespace std;\n",
        "int main(){\n",
        "    ifstream archivo(\"archivos.cpp\");\n",
        "    string line;\n",
        "    while(getline(archivo, line)){\n",
        "      cout<<line<<'\\n';    \n",
        "    }\n",
        "}"
      ],
      "metadata": {
        "colab": {
          "base_uri": "https://localhost:8080/"
        },
        "id": "-N4kYxWWZgRh",
        "outputId": "14eb1516-daf6-45d9-cd13-c70c4bb7cc67"
      },
      "execution_count": 52,
      "outputs": [
        {
          "output_type": "stream",
          "name": "stdout",
          "text": [
            "Overwriting archivos.cpp\n"
          ]
        }
      ]
    },
    {
      "cell_type": "code",
      "source": [
        "!g++ archivos.cpp && ./a.out"
      ],
      "metadata": {
        "colab": {
          "base_uri": "https://localhost:8080/"
        },
        "id": "NnRIi6mCfsGr",
        "outputId": "103673fc-018c-4eb2-c68e-5facfa76c338"
      },
      "execution_count": 53,
      "outputs": [
        {
          "output_type": "stream",
          "name": "stdout",
          "text": [
            "#include<iostream>\n",
            "#include<fstream>\n",
            "#include<string>\n",
            "using namespace std;\n",
            "int main(){\n",
            "    ifstream archivo(\"archivos.cpp\");\n",
            "    string line;\n",
            "    while(getline(archivo, line)){\n",
            "      cout<<line<<'\\n';    \n",
            "    }\n",
            "}\n"
          ]
        }
      ]
    },
    {
      "cell_type": "code",
      "source": [
        "\n",
        "%%writefile ejercicio4.cpp\n",
        "\n",
        "#include <iostream>\n",
        "\n",
        "#include <functional>\n",
        "\n",
        "using std::cout;\n",
        "\n",
        "using std::function;\n",
        "\n",
        "using std::cin;\n",
        "\n",
        "void mujeres(){cout<<\"hoy dia salen las mujeres\";}\n",
        "\n",
        "void varones(){cout<<\"hoy dia salen los varones\";}\n",
        "\n",
        "void salir(function<void()> s){ s();}\n",
        "\n",
        "int main(){\n",
        "\n",
        "    unsigned short dia;\n",
        "\n",
        "    cout<<\"Ingrese el dia\";\n",
        "\n",
        "    cin>>dia;\n",
        "\n",
        "    switch(dia){\n",
        "\n",
        "        case 1:case 3:case 5:salir(varones);break;\n",
        "\n",
        "        case 2:case 4:case6:salir(mujeres);break;\n",
        "\n",
        "    }\n",
        "\n",
        "}"
      ],
      "metadata": {
        "colab": {
          "base_uri": "https://localhost:8080/"
        },
        "id": "fQ7SouPlgdjS",
        "outputId": "1d554cee-9362-41a5-bf22-f5a2d438682c"
      },
      "execution_count": 54,
      "outputs": [
        {
          "output_type": "stream",
          "name": "stdout",
          "text": [
            "Writing ejercicio4.cpp\n"
          ]
        }
      ]
    },
    {
      "cell_type": "code",
      "source": [
        "%%writefile ejercicio5.cpp\n",
        "\n",
        "#include <iostream>\n",
        "\n",
        "#include <functional>\n",
        "\n",
        "using std::cout;\n",
        "\n",
        "using std::function;\n",
        "\n",
        "using std::cin;\n",
        "\n",
        "void salir(function<void()> s){ s();}\n",
        "\n",
        "int main(){\n",
        "\n",
        "    auto mujeres=[](){cout<<\"hoy dia salen las mujeres\";};    \n",
        "\n",
        "    function<void()> varones=[](){cout<<\"hoy dia salen los varones\";};\n",
        "\n",
        "    unsigned short dia;\n",
        "\n",
        "    cout<<\"Ingrese el dia\";\n",
        "\n",
        "    cin>>dia;\n",
        "\n",
        "    switch(dia){\n",
        "\n",
        "        case 1:case 3:case 5:salir(varones);break;\n",
        "\n",
        "        case 2:case 4:case 6:salir(mujeres);break;\n",
        "\n",
        "    }\n",
        "\n",
        "}"
      ],
      "metadata": {
        "id": "tIdvJziBhwB6"
      },
      "execution_count": null,
      "outputs": []
    }
  ]
}