{
  "nbformat": 4,
  "nbformat_minor": 0,
  "metadata": {
    "colab": {
      "name": "Untitled0.ipynb",
      "provenance": [],
      "collapsed_sections": [],
      "authorship_tag": "ABX9TyNs+4nxvjxRZPbJO7RUJDRC",
      "include_colab_link": true
    },
    "kernelspec": {
      "name": "python3",
      "display_name": "Python 3"
    },
    "language_info": {
      "name": "python"
    }
  },
  "cells": [
    {
      "cell_type": "markdown",
      "metadata": {
        "id": "view-in-github",
        "colab_type": "text"
      },
      "source": [
        "<a href=\"https://colab.research.google.com/github/SamuelCano03/1rstRespository/blob/main/Untitled0.ipynb\" target=\"_parent\"><img src=\"https://colab.research.google.com/assets/colab-badge.svg\" alt=\"Open In Colab\"/></a>"
      ]
    },
    {
      "cell_type": "markdown",
      "source": [
        "#Ejemplo1"
      ],
      "metadata": {
        "id": "G3Y9f-I78IC0"
      }
    },
    {
      "cell_type": "code",
      "source": [
        "!g++ ejemplo1.cpp"
      ],
      "metadata": {
        "id": "gSqriyJ_7wsj"
      },
      "execution_count": 10,
      "outputs": []
    },
    {
      "cell_type": "code",
      "source": [
        "!g++ -std=c++1z ejemplo1.cpp && ./a.out"
      ],
      "metadata": {
        "id": "SYbD5wvS8rwj"
      },
      "execution_count": null,
      "outputs": []
    },
    {
      "cell_type": "code",
      "source": [
        "%%writefile ejemplo2.hpp\n",
        "//Definicion de bibliotecas, clases y funciones\n",
        "#include <iostream>\n",
        "#include <cstdlib>// srand, rand\n",
        "#include <ctime>//time\n",
        "\n",
        "using std::cout;\n",
        "using std::cin;\n",
        "//definición de la funcion\n",
        "void generar(short* a, size_t n);\n",
        "void listar(short*, size_t);\n",
        "void mayor(short*, size_t);\n",
        "void ordenar(short*, size_t);\n",
        "void mayorPromedio(short* a, size_t n);"
      ],
      "metadata": {
        "colab": {
          "base_uri": "https://localhost:8080/"
        },
        "id": "zkVlH2os8-kK",
        "outputId": "61372758-96e8-42c3-f629-dd6f7d95540f"
      },
      "execution_count": 14,
      "outputs": [
        {
          "output_type": "stream",
          "name": "stdout",
          "text": [
            "Writing ejemplo2.hpp\n"
          ]
        }
      ]
    },
    {
      "cell_type": "code",
      "source": [
        "%%writefile ejemplo2.cpp\n",
        "//implementacion de las bibliotecas, clases  y funciones\n",
        "#include \"ejemplo2.hpp\"\n",
        "\n",
        "void generar(short* a, size_t n){\n",
        "  for(size_t i=0;i<n;++i){\n",
        "      a[i]=rand()%101+100;//rango de 100 a 200    \n",
        "  }  \n",
        "}\n",
        "\n",
        "void listar(short* a, size_t n){\n",
        "for(size_t i=0;i<n;++i){\n",
        "      cout<<i<<\"-> \"<<a[i]<<\"\\n\";\n",
        "  }  \n",
        "}\n",
        "\n",
        "void mayor(short* a, size_t n){\n",
        "  short _mayor=a[0], _pos=-1;\n",
        "  \n",
        "for(size_t i=1;i<n;++i){\n",
        "  if(a[i]>_mayor){\n",
        "      _mayor=a[i];//actualizo el mayor\n",
        "      _pos=i;\n",
        "    }\n",
        "  }\n",
        "  cout<<\"El mayor valor es\"<<_mayor<<\" y se encuentra en la posicion\"<<_pos<<\"\\n\";\n",
        "}\n",
        "void ordenar(short* a, size_t n){\n",
        "  for(int i=0;i<n-1;++i){\n",
        "  for(int j=i+1;j<n;++j){\n",
        "   if(a[i]>a[j]){\n",
        "    short aux=a[i];\n",
        "    a[i]=a[j];\n",
        "    a[j]=aux;\n",
        "  }\n",
        "}\n",
        "    }\n",
        "}\n",
        "void mayorPromedio(short* a, size_t n){\n",
        "  float prom=0.0f;    \n",
        "  //obteniendo el promedio\n",
        "  for(int i=0;i<n-1;++i)\n",
        "        prom+=a[i];\n",
        "  prom/=n;//prom=prom/n   \n",
        "  //listar mayor al promedio\n",
        "  for(int i=0;i<n-1;++i)\n",
        "        if(a[i]>prom)cout<<i<<\"->\"<<a[i]<<\"\\n\";\n",
        "  }\n",
        "\n",
        "\n"
      ],
      "metadata": {
        "colab": {
          "base_uri": "https://localhost:8080/"
        },
        "id": "qN6AqQxR_3JX",
        "outputId": "f2197d1b-7ed5-449e-e85c-89a80f79e30a"
      },
      "execution_count": 27,
      "outputs": [
        {
          "output_type": "stream",
          "name": "stdout",
          "text": [
            "Overwriting ejemplo2.cpp\n"
          ]
        }
      ]
    },
    {
      "cell_type": "code",
      "source": [
        "%%writefile ejemplo.cpp\n",
        "#include \"ejemplo2.cpp\"\n",
        "int main() {\n",
        "short* arreglo=new short[100];  \n",
        "srand(time(NULL));//inicializacion de la semilla\n",
        "generar(arreglo,100);\n",
        "listar(arreglo, 100);\n",
        "//mayor(arreglo, 100);  \n",
        "ordenar(arreglo, 100);\n",
        "cout<<\"-------------\\n\";\n",
        "//listar(arreglo, 100);\n",
        "  mayorPromedio(arreglo, 100);\n",
        "}"
      ],
      "metadata": {
        "colab": {
          "base_uri": "https://localhost:8080/"
        },
        "id": "Y-U5FabdADAx",
        "outputId": "3f460460-ca08-46c2-9c66-0619133e39bb"
      },
      "execution_count": 29,
      "outputs": [
        {
          "output_type": "stream",
          "name": "stdout",
          "text": [
            "Overwriting ejemplo.cpp\n"
          ]
        }
      ]
    },
    {
      "cell_type": "code",
      "source": [
        "!g++ -std=c++1y ejemplo.cpp && ./a.out"
      ],
      "metadata": {
        "id": "uV5zG04bALMU"
      },
      "execution_count": null,
      "outputs": []
    },
    {
      "cell_type": "code",
      "source": [
        "%%writefile biblioteca.hpp\n",
        "#include<iostream>\n",
        "using std::cout;\n",
        "using std::cin;\n",
        "template <typename Generico>\n",
        "class Arreglo{\n",
        "    Generico*a;\n",
        "    size_t n;\n",
        "    int ini;\n",
        "    public:\n",
        "    Arreglo(){a=new Generico[10];n=5;ini=0;}\n",
        "    Arreglo(Generico*_a, size_t _n){a=_a; n=_n;}\n",
        "    //\n",
        "    void listar(){\n",
        "    for(int i=0;i<n;++i){\n",
        "        cout<<i<<\"->\"<<a[i]<<\"\\n\";\n",
        "        }\n",
        "    }\n",
        "    //\n",
        "    void insertar(Generico g){\n",
        "        if(ini<10){\n",
        "            a[ini++]=g;\n",
        "        }\n",
        "    }\n",
        "    //generar\n",
        "    void generar(){\n",
        "      for(size_t i=0;i<n;++i){\n",
        "          a[i]=Generico((rand()%101+100)*1.123);//rango de 100 a 200    \n",
        "      }  \n",
        "    }\n",
        "    //\n",
        "    void mayor(){\n",
        "      Generico _mayor=a[0], _pos=-1;\n",
        "        \n",
        "      for(size_t i=1;i<n;++i){\n",
        "        if(a[i]>_mayor){\n",
        "            _mayor=a[i];//actualizo el mayor\n",
        "            _pos=i;\n",
        "          }\n",
        "        }\n",
        "        cout<<\"El mayor valor es \"<<_mayor<<\" y se encuentra en la posicion \"<<_pos<<\"\\n\";\n",
        "    }\n",
        "    \n",
        "    void ordenar(){\n",
        "      for(int i=0;i<n-1;++i){\n",
        "        for(int j=i+1;j<n;++j){\n",
        "          if(a[i]>a[j]){\n",
        "            Generico aux=a[i];\n",
        "            a[i]=a[j];\n",
        "            a[j]=aux;\n",
        "          }\n",
        "        }\n",
        "      }\n",
        "    }\n",
        "    void promedio(){\n",
        "      Generico prom=0;    \n",
        "      //obteniendo el promedio\n",
        "      for(int i=0;i<n;++i)\n",
        "            prom+=a[i];\n",
        "      prom/=n;  \n",
        "      cout<<prom<<'\\n';\n",
        "      //listar mayor al promedio\n",
        "      /*\n",
        "      for(int i=0;i<n;++i)\n",
        "            if(a[i]>prom)cout<<i<<\"->\"<<a[i]<<\"\\n\";*/\n",
        "    }\n",
        "};\n"
      ],
      "metadata": {
        "colab": {
          "base_uri": "https://localhost:8080/"
        },
        "id": "cFV-rrINARJb",
        "outputId": "7edfaf42-9451-4eef-9ba9-75bdecee0dec"
      },
      "execution_count": 72,
      "outputs": [
        {
          "output_type": "stream",
          "name": "stdout",
          "text": [
            "Overwriting biblioteca.hpp\n"
          ]
        }
      ]
    },
    {
      "cell_type": "code",
      "source": [
        "%%writefile ejemp.cpp\n",
        "#include \"biblioteca.hpp\"\n",
        "#include <iostream>\n",
        "#include <cstdlib>// srand, rand\n",
        "#include <ctime>//time\n",
        "\n",
        "int main(){\n",
        "    srand(time(NULL));\n",
        "    Arreglo<int>*arrEnteros=new Arreglo<int>();\n",
        "    Arreglo<float>*arrDecimales=new Arreglo<float>();\n",
        "    \n",
        "    arrEnteros->generar();\n",
        "    arrDecimales->generar();\n",
        "\n",
        "    arrEnteros->listar();\n",
        "    cout<<'\\n';\n",
        "    arrEnteros->mayor();\n",
        "    cout<<'\\n';\n",
        "    arrDecimales->listar();\n",
        "    cout<<'\\n';\n",
        "    arrDecimales->mayor();\n",
        "\n",
        "    arrEnteros->ordenar();\n",
        "    arrEnteros->listar();\n",
        "    arrEnteros->mayor();\n",
        "    arrEnteros->promedio();\n",
        "    return 0;\n",
        "}"
      ],
      "metadata": {
        "colab": {
          "base_uri": "https://localhost:8080/"
        },
        "id": "0Uvah7lZHFhh",
        "outputId": "4daebd52-98b6-4b92-c2bd-8f90496c6deb"
      },
      "execution_count": 73,
      "outputs": [
        {
          "output_type": "stream",
          "name": "stdout",
          "text": [
            "Overwriting ejemp.cpp\n"
          ]
        }
      ]
    },
    {
      "cell_type": "code",
      "source": [
        "!g++ -std=c++14 ejemp.cpp && ./a.out"
      ],
      "metadata": {
        "colab": {
          "base_uri": "https://localhost:8080/"
        },
        "id": "2hVBuIC-HWa1",
        "outputId": "56fee60b-e9b9-49ed-ac3c-38e377c87080"
      },
      "execution_count": 74,
      "outputs": [
        {
          "output_type": "stream",
          "name": "stdout",
          "text": [
            "0->181\n",
            "1->135\n",
            "2->137\n",
            "3->148\n",
            "4->224\n",
            "\n",
            "El mayor valor es 224 y se encuentra en la posicion 4\n",
            "\n",
            "0->222.354\n",
            "1->161.712\n",
            "2->114.546\n",
            "3->169.573\n",
            "4->129.145\n",
            "\n",
            "El mayor valor es 222.354 y se encuentra en la posicion -1\n",
            "0->135\n",
            "1->137\n",
            "2->148\n",
            "3->181\n",
            "4->224\n",
            "El mayor valor es 224 y se encuentra en la posicion 4\n",
            "165\n"
          ]
        }
      ]
    },
    {
      "cell_type": "code",
      "source": [
        "%%writefile tarea.cpp\n",
        "#include"
      ],
      "metadata": {
        "colab": {
          "base_uri": "https://localhost:8080/"
        },
        "id": "AGcyqUbNypUS",
        "outputId": "1eda5295-f0da-4985-98a8-7db3db97ccda"
      },
      "execution_count": 44,
      "outputs": [
        {
          "output_type": "stream",
          "name": "stdout",
          "text": [
            "Writing tarea.cpp\n"
          ]
        }
      ]
    },
    {
      "cell_type": "code",
      "source": [
        ""
      ],
      "metadata": {
        "id": "NnkVLYdB6Mrp"
      },
      "execution_count": null,
      "outputs": []
    }
  ]
}